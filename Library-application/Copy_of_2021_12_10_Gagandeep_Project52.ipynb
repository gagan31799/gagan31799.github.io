{
  "nbformat": 4,
  "nbformat_minor": 0,
  "metadata": {
    "colab": {
      "name": "Copy of 2021-12-10_Gagandeep_Project52",
      "provenance": [],
      "collapsed_sections": []
    },
    "kernelspec": {
      "name": "python3",
      "display_name": "Python 3"
    }
  },
  "cells": [
    {
      "cell_type": "markdown",
      "metadata": {
        "id": "UYmMpXkNw9I6"
      },
      "source": [
        "### Instructions"
      ]
    },
    {
      "cell_type": "markdown",
      "metadata": {
        "id": "2i36Yv3-MPY5"
      },
      "source": [
        "### Problem Statement \n",
        "\n",
        "In this project, create an interactive Library application using the concept of **Object Oriented Programming**. \n",
        "\n",
        "Ask the user to enter a number from 1, 2, 3, 4, or 9. These numbers indicate the following options: \n",
        "\n",
        "  - **1: Display books** $\\Longrightarrow$ This option displays all books in the library.\n",
        "\n",
        "  - **2: Lend a book** $\\Longrightarrow$ This option allows the user to lend a book to another user.\n",
        "\n",
        "  - **3: Add a book** $\\Longrightarrow$ This option enables the user to add a new book to the library.\n",
        "\n",
        "  - **4: Collect a book** $\\Longrightarrow$ This option will collect the book back from the user.\n",
        "\n",
        "  - **9: Quit** $\\Longrightarrow$ This option will allow the user to quit the application.\n",
        "\n",
        "  "
      ]
    },
    {
      "cell_type": "markdown",
      "metadata": {
        "id": "vYChcL-WMRFV"
      },
      "source": [
        "---"
      ]
    },
    {
      "cell_type": "markdown",
      "metadata": {
        "id": "toeLx5LJpIV-"
      },
      "source": [
        "### List of Activities\n",
        "\n",
        "**Activity 1:** Create a `LibraryAdmin` class.\n",
        "\n",
        "**Activity 2:** Create the following four functions inside the `LibraryAdmin` class:\n",
        "\n",
        " - `display_book()`: To display all the books.\n",
        "\n",
        " - `lend_book()`: To lend a book. \n",
        "\n",
        " - `add_book()`: To add a new book.\n",
        "\n",
        " - `collect_book()`: To collect a book back.  \n",
        "\n",
        "**Activity 3:** Create an object of `LibraryAdmin` class.\n",
        "\n",
        "**Activity 4:** Call the functions."
      ]
    },
    {
      "cell_type": "markdown",
      "metadata": {
        "id": "5JRlGIBRqCGl"
      },
      "source": [
        "---"
      ]
    },
    {
      "cell_type": "code",
      "metadata": {
        "id": "6RL71w3ntzcH"
      },
      "source": [
        "#  Create class LibraryAdmin and add constructor\n",
        "class LibraryAdmin:\n",
        "  def __init__(self,list_books):\n",
        "    list_books=list_books\n",
        "    borrowers_dict={}\n",
        "    \n",
        "\n"
      ],
      "execution_count": null,
      "outputs": []
    },
    {
      "cell_type": "markdown",
      "metadata": {
        "id": "RETr5Tv1JBls"
      },
      "source": [
        "---"
      ]
    },
    {
      "cell_type": "markdown",
      "metadata": {
        "id": "NyHSsEwEoEvH"
      },
      "source": [
        "#### Activity 2: Add Functions\n",
        "\n",
        "Add the following four functions inside the `LibraryAdmin` class:\n",
        "\n",
        "- **The `display_books()` function**: Display all the books stored in the `list_books` list using `for` loop.\n",
        "\n",
        "- **The `lend_book()` function**: This function takes two parameters; `book` and `borrower`. The `book` parameter holds the name of the book and the `borrower` parameter holds the name of the user to whom the book is to be lent. \n",
        "\n",
        "  Inside this function, check whether the `book` is already present in the `borrowers_dict` dictionary or not. \n",
        "\n",
        "  * If the `book` is not in `borrowers_dict{}`, update this dictionary using `update()` function. Pass the name of the book i.e. `book` variable as key and name of the user i.e. `borrower` variable as its `value` to the `update()` function.\n",
        "\n",
        "  * If the `book` exists in `borrowers_dict{}`, this means that this book is already issued by another user. Thus, display the message \"Sorry, this book is already issued\".\n",
        "\n",
        "- **The `add_book()` function**: This function takes a parameter `book` which holds the name of the book to be added to the library. Use the `append()` function to add the `book` to the `list_books` list. Also, display a message \"Book has been successfully added in the Library\".\n",
        "\n",
        "- **The `collect_book()` function**: This function takes a parameter `book` which holds the name of the book to be removed from the `borrowers_dict` dictionary. Use the `pop()` function of the Python dictionary to remove the `book` from the `borrowers_dict` dictionary. Also, display a message \"Book is successfully removed from the Library\".\n",
        "\n",
        "**Note:** Do not forget to keep `self` keyword as the first argument or parameter in all the class functions."
      ]
    },
    {
      "cell_type": "code",
      "metadata": {
        "id": "JPMbyEbOoWz0"
      },
      "source": [
        "# Create Functions inside 'Library' class.\n",
        "\n",
        "class LibraryAdmin:\n",
        "  def __init__(self,list_books):\n",
        "    self.list_books=list_books\n",
        "    self.borrowers_dict={} \n",
        "  def display_books(self):\n",
        "    #print(self.list_books)\n",
        "    for i in self.list_books:\n",
        "      print(i)\n",
        "  def lend_book(self,book,borrower):\n",
        "    if book not in self.borrowers_dict.keys():\n",
        "        self.borrowers_dict.update({book:borrower})\n",
        "        print('Book issued')        \n",
        "    else:\n",
        "        print(\"Sorry, this book is already Issued\")\n",
        "\n",
        "  def add_book(self,book):\n",
        "    self.list_books.append(book)\n",
        "    print(\"Book is sucessfully added in library\")\n",
        "\n",
        "  def collect_book(self,book):\n",
        "    if(book not in self.borrowers_dict.keys()):\n",
        "      print(f\"{book} is Not in Borrower Dict\")\n",
        "    else:\n",
        "      self.borrowers_dict.pop(book)\n",
        "      print(f\"{book} is successfully removed from library\")\n",
        "    \n",
        "\n",
        "\n"
      ],
      "execution_count": null,
      "outputs": []
    },
    {
      "cell_type": "markdown",
      "metadata": {
        "id": "hRxkk8dCAFMr"
      },
      "source": [
        "---"
      ]
    },
    {
      "cell_type": "markdown",
      "metadata": {
        "id": "NUWsq3QFG4Q3"
      },
      "source": [
        "#### Activity 3: Create an Object of `LibraryAdmin`\n",
        "\n",
        "Create an object of `LibraryAdmin` class and pass a list as a parameter. This list consists of names of books that initially exist in your library.\n",
        "\n"
      ]
    },
    {
      "cell_type": "code",
      "metadata": {
        "id": "cHEBBL8JOymV"
      },
      "source": [
        "# Create an object of Library class and pass a list of books as a parameter\n",
        "demo=LibraryAdmin(['C','Python','OOPs'])\n",
        "\n"
      ],
      "execution_count": null,
      "outputs": []
    },
    {
      "cell_type": "markdown",
      "metadata": {
        "id": "TjVfq3s_G8Z8"
      },
      "source": [
        "---"
      ]
    },
    {
      "cell_type": "code",
      "source": [
        "demo.lend_book('OOPs','gagan')\n",
        "demo.collect_book('OOPs')\n",
        "demo.display_books()"
      ],
      "metadata": {
        "colab": {
          "base_uri": "https://localhost:8080/"
        },
        "id": "c8LyfoNmO0kv",
        "outputId": "799f65f6-8d79-46de-e2d4-aaa18566851c"
      },
      "execution_count": null,
      "outputs": [
        {
          "output_type": "stream",
          "name": "stdout",
          "text": [
            "Book issued\n",
            "OOPs is successfully removed from library\n",
            "C\n",
            "Python\n",
            "OOPs\n"
          ]
        }
      ]
    },
    {
      "cell_type": "markdown",
      "metadata": {
        "id": "rl-1j6RYQsYb"
      },
      "source": [
        "#### Activity 4: Call the Functions\n",
        "\n",
        "Create an infinite `while` loop. Inside this `while` loop perform the following tasks:\n",
        "1. Display the following list of choices:\n",
        "\n",
        "```\n",
        "Enter :\n",
        "        1 to DISPLAY books\n",
        "        2 to LEND a book\n",
        "        3 to ADD a book\n",
        "        4 to COLLECT a book\n",
        "        9 to QUIT the application\n",
        "```\n",
        "\n",
        "2. Take user input and store it in a variable `user_choice`. Check whether the user entered any input other than 1, 2, 3, 4, or 9. If yes, then display a message \"Please enter a valid option\" and keep on asking for user input unless the user enters a valid choice.\n",
        "\n",
        "3. Now using the `if-elif-else` statement, check user input and call the corresponding functions using the object of the `LibraryAdmin` class.\n",
        " - If `user_choice==1`, call the `display_books()` function \n",
        " - If `user_choice==2`, ask the user to enter the name of the book which is to be lent and the name of the borrower and pass them as parameters to the `lend_book()` function.\n",
        " - If `user_choice==3`, ask the user to enter the name of the book which is to be added and pass this as a parameter to the `add_book()` function.\n",
        " - If `user_choice==4`, ask the user to enter the name of the book which is to be collected back and pass this as a parameter to the `collect_book()` function.\n",
        " - If `user_choice==9`, break the infinite while loop using the `break` statement.\n",
        "\n",
        "\n",
        "**Note:** Call all the four functions using the object of `LibraryAdmin` class only."
      ]
    },
    {
      "cell_type": "code",
      "metadata": {
        "id": "RJ72_giGoYEj",
        "colab": {
          "base_uri": "https://localhost:8080/"
        },
        "outputId": "b8d80f82-665c-4e88-9d03-38aa283ea4e0"
      },
      "source": [
        "# Call the functions\n",
        "demo=LibraryAdmin(['C','Python','OOPs','java'])\n",
        "while True:\n",
        "  print('Enter:\\n\\t1 to Display Books.\\n\\t2 to lend a Book\\n\\t3 to add a book.\\n\\t4 to collect a Book.\\n\\t9 to quit the application. ')\n",
        "  user_choice=int(input())\n",
        "  if(user_choice  not in [1,2,3,4,9]):\n",
        "    print('Please enter valid Input')\n",
        "  if(user_choice==1):\n",
        "    demo.display_books()\n",
        "  elif(user_choice==2):\n",
        "    book = input(\"Enter the name of the book to be lent:\\n\")\n",
        "    borrower = input(\"Enter the name of the borrower:\\n\")\n",
        "    demo.lend_book(book,borrower)\n",
        "  elif(user_choice==3):\n",
        "    book = input(\"Enter the name of the book you want to add:\\n\")\n",
        "    demo.add_book(book)\n",
        "  elif(user_choice==4):\n",
        "    book = input(\"Enter the name of the book to be collected:\\n\")\n",
        "    demo.collect_book(book)\n",
        "  elif(user_choice==9):\n",
        "    break\n",
        "\n",
        "\n"
      ],
      "execution_count": null,
      "outputs": [
        {
          "name": "stdout",
          "output_type": "stream",
          "text": [
            "Enter:\n",
            "\t1 to Display Books.\n",
            "\t2 to lend a Book\n",
            "\t3 to add a book.\n",
            "\t4 to collect a Book.\n",
            "\t9 to quit the application. \n",
            "1\n",
            "C\n",
            "Python\n",
            "OOPs\n",
            "java\n",
            "Enter:\n",
            "\t1 to Display Books.\n",
            "\t2 to lend a Book\n",
            "\t3 to add a book.\n",
            "\t4 to collect a Book.\n",
            "\t9 to quit the application. \n",
            "2\n",
            "Enter the name of the book to be lent:\n",
            "Python\n",
            "Enter the name of the borrower:\n",
            "Gagan\n",
            "Book issued\n",
            "Enter:\n",
            "\t1 to Display Books.\n",
            "\t2 to lend a Book\n",
            "\t3 to add a book.\n",
            "\t4 to collect a Book.\n",
            "\t9 to quit the application. \n",
            "4\n",
            "Enter the name of the book to be collected:\n",
            "Python\n",
            "Python is successfully removed from library\n",
            "Enter:\n",
            "\t1 to Display Books.\n",
            "\t2 to lend a Book\n",
            "\t3 to add a book.\n",
            "\t4 to collect a Book.\n",
            "\t9 to quit the application. \n",
            "9\n"
          ]
        }
      ]
    },
    {
      "cell_type": "markdown",
      "metadata": {
        "id": "lBZS4GAudWGJ"
      },
      "source": [
        "---"
      ]
    }
  ]
}